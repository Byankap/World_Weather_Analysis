{
 "cells": [
  {
   "cell_type": "code",
   "execution_count": 13,
   "id": "1d669a38",
   "metadata": {},
   "outputs": [],
   "source": [
    "import random\n",
    "import numpy as np\n",
    "import requests\n",
    "from citipy import citipy\n",
    "from config import weather_api_key\n",
    "import time\n",
    "import pandas as pd\n",
    "import matplotlib.pyplot as plt"
   ]
  },
  {
   "cell_type": "code",
   "execution_count": 14,
   "id": "30f0a21c",
   "metadata": {},
   "outputs": [],
   "source": [
    "#create new set of 2000 lat and lng\n",
    "lats = np.random.uniform(-90.000,90.000, size=2000)\n",
    "lngs = np.random.uniform(-180.000,1800.000, size=2000)\n",
    "lats_lngs = zip(lats, lngs)\n",
    "coordinates = list(lats_lngs)"
   ]
  },
  {
   "cell_type": "code",
   "execution_count": 15,
   "id": "c6d61f45",
   "metadata": {},
   "outputs": [
    {
     "data": {
      "text/plain": [
       "236"
      ]
     },
     "execution_count": 15,
     "metadata": {},
     "output_type": "execute_result"
    }
   ],
   "source": [
    "#get nearest city using the citipy module \n",
    "cities = []\n",
    "for coordinate in coordinates:\n",
    "    city = citipy.nearest_city(coordinate[0], coordinate[1]).city_name\n",
    "    if city not in cities:\n",
    "        cities.append(city)\n",
    "len(cities)"
   ]
  },
  {
   "cell_type": "code",
   "execution_count": 16,
   "id": "ff5db334",
   "metadata": {},
   "outputs": [
    {
     "data": {
      "text/plain": [
       "{'coord': {'lon': 2.3488, 'lat': 48.8534},\n",
       " 'weather': [{'id': 804,\n",
       "   'main': 'Clouds',\n",
       "   'description': 'overcast clouds',\n",
       "   'icon': '04n'}],\n",
       " 'base': 'stations',\n",
       " 'main': {'temp': 52.68,\n",
       "  'feels_like': 52.02,\n",
       "  'temp_min': 50,\n",
       "  'temp_max': 54.18,\n",
       "  'pressure': 998,\n",
       "  'humidity': 93},\n",
       " 'visibility': 10000,\n",
       " 'wind': {'speed': 4, 'deg': 248, 'gust': 8.99},\n",
       " 'clouds': {'all': 90},\n",
       " 'dt': 1638598483,\n",
       " 'sys': {'type': 2,\n",
       "  'id': 2041230,\n",
       "  'country': 'FR',\n",
       "  'sunrise': 1638602799,\n",
       "  'sunset': 1638633325},\n",
       " 'timezone': 3600,\n",
       " 'id': 2988507,\n",
       " 'name': 'Paris',\n",
       " 'cod': 200}"
      ]
     },
     "execution_count": 16,
     "metadata": {},
     "output_type": "execute_result"
    }
   ],
   "source": [
    "# Perform API call with OpenWeatherMap\n",
    "url = \"http://api.openweathermap.org/data/2.5/weather?units=Imperial&APPID=\" + weather_api_key\n",
    "city_url = url + \"&q=\" + \"Paris\"\n",
    "city_weather = requests.get(city_url)\n",
    "city_weather.json()"
   ]
  },
  {
   "cell_type": "code",
   "execution_count": null,
   "id": "a89e560e",
   "metadata": {},
   "outputs": [
    {
     "name": "stdout",
     "output_type": "stream",
     "text": [
      "Beginning Data Retrieval\n",
      "------------------------\n",
      "Processing Record 1 of Set 1 | asau\n",
      "Processing Record 2 of Set 1 | soure\n",
      "Processing Record 3 of Set 1 | beringovskiy\n",
      "Processing Record 4 of Set 1 | ruatoria\n",
      "City not found. Skipping...\n",
      "Processing Record 5 of Set 1 | bitung\n",
      "Processing Record 6 of Set 1 | tolaga bay\n"
     ]
    }
   ],
   "source": [
    "#retrieve from API call: lat, lng, max temp, %humidity, %cloudiness, wind speed, weather description\n",
    "city_data = []\n",
    "print(\"Beginning Data Retrieval\")\n",
    "print(\"------------------------\")\n",
    "\n",
    "record_count = 1\n",
    "set_count = 1\n",
    "\n",
    "for i, city in enumerate(cities):\n",
    "    if (i % 50 == 0 and i >= 50):\n",
    "        set_count += 1\n",
    "        record_count = 1\n",
    "        time.sleep(60)\n",
    "    # Create endpoint URL with each city.\n",
    "    city_url = url + \"&q=\" + city.replace(\" \",\"+\")\n",
    "    #log the url, record and set number and the city\n",
    "    print(f\"Processing Record {record_count} of Set {set_count} | {city}\")\n",
    "    #Add 1 to the record count\n",
    "    record_count += 1\n",
    "\n",
    "    try:\n",
    "        # Parse the JSON and retrieve data.\n",
    "        city_weather = requests.get(city_url).json()\n",
    "        # Parse out the needed data.\n",
    "        city_lat = city_weather[\"coord\"][\"lat\"]\n",
    "        city_lng = city_weather[\"coord\"][\"lon\"]\n",
    "        city_max_temp = city_weather[\"main\"][\"temp_max\"]\n",
    "        city_humidity = city_weather[\"main\"][\"humidity\"]\n",
    "        city_clouds = city_weather[\"clouds\"][\"all\"]\n",
    "        city_wind = city_weather[\"wind\"][\"speed\"]\n",
    "        city_description = city_weather[\"weather\"][0][\"description\"]\n",
    "\n",
    "        # Append the city information into city_data list.\n",
    "        city_data.append({\"City\": city.title(),\n",
    "                          \"Lat\": city_lat,\n",
    "                          \"Lng\": city_lng,\n",
    "                          \"Max Temp\": city_max_temp,\n",
    "                          \"Humidity\": city_humidity,\n",
    "                          \"Cloudiness\": city_clouds,\n",
    "                          \"Wind Speed\": city_wind,\n",
    "                          \"Weather Description\": city_description})\n",
    "    # If an error is experienced, skip the city.\n",
    "    except:\n",
    "        print(\"City not found. Skipping...\")\n",
    "        pass\n",
    "    \n",
    "# Indicate that Data Loading is complete.\n",
    "print(\"-----------------------------\")\n",
    "print(\"Data Retrieval Complete      \")\n",
    "print(\"-----------------------------\")\n",
    "                          "
   ]
  },
  {
   "cell_type": "code",
   "execution_count": null,
   "id": "fba8cbb9",
   "metadata": {},
   "outputs": [],
   "source": [
    "city_data_df = pd.DataFrame(city_data)\n",
    "city_data_df.head(5)"
   ]
  },
  {
   "cell_type": "code",
   "execution_count": 12,
   "id": "54c994a8",
   "metadata": {},
   "outputs": [],
   "source": [
    "city_data_df.to_csv('WeatherPy_Database.csv')\n"
   ]
  },
  {
   "cell_type": "code",
   "execution_count": null,
   "id": "ba6d8ac4",
   "metadata": {},
   "outputs": [],
   "source": [
    "C"
   ]
  }
 ],
 "metadata": {
  "kernelspec": {
   "display_name": "Python 3",
   "language": "python",
   "name": "python3"
  },
  "language_info": {
   "codemirror_mode": {
    "name": "ipython",
    "version": 3
   },
   "file_extension": ".py",
   "mimetype": "text/x-python",
   "name": "python",
   "nbconvert_exporter": "python",
   "pygments_lexer": "ipython3",
   "version": "3.7.10"
  }
 },
 "nbformat": 4,
 "nbformat_minor": 5
}
